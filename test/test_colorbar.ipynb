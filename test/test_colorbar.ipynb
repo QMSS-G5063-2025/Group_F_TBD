{
 "cells": [
  {
   "cell_type": "code",
   "execution_count": 1,
   "id": "82868018",
   "metadata": {},
   "outputs": [],
   "source": [
    "import sys\n",
    "import pandas as pd\n",
    "import matplotlib.pyplot as plt\n",
    "import numpy as np\n",
    "import os\n",
    "from pathlib import Path\n",
    "\n",
    "BASE_DIR = Path(os.getcwd()).parent\n",
    "os.chdir(BASE_DIR / \"App\")\n",
    "\n",
    "from utils.utils import get_color_map, NAME_MAPPING"
   ]
  },
  {
   "cell_type": "code",
   "execution_count": 2,
   "id": "3e00ddba",
   "metadata": {},
   "outputs": [],
   "source": [
    "def compare_colormap(raw_data, selected_param, selected_time, cmap=\"bwr\", min_clip=None, max_clip=None):\n",
    "    df = raw_data[raw_data[\"year_month\"] == selected_time].sort_values(selected_param, ascending=False).copy()\n",
    "\n",
    "    methods = [\"color_clip\", \"color_log\", \"color_clip_log\", \"color\"]\n",
    "\n",
    "    rgba_colors, colorbar_html = get_color_map(\n",
    "        df[selected_param],\n",
    "        NAME_MAPPING[selected_param],\n",
    "        cmap=cmap,\n",
    "        min_clip=min_clip,\n",
    "        max_clip=max_clip,\n",
    "        log_scale_mapping=False,\n",
    "    )\n",
    "    df[\"color_clip\"] = rgba_colors.tolist()\n",
    "\n",
    "    rgba_colors, colorbar_html = get_color_map(\n",
    "        df[selected_param],\n",
    "        NAME_MAPPING[selected_param],\n",
    "        cmap=cmap,\n",
    "        min_clip=None,\n",
    "        max_clip=None,\n",
    "        log_scale_mapping=True,\n",
    "    )\n",
    "    df[\"color_log\"] = rgba_colors.tolist()\n",
    "\n",
    "    rgba_colors, colorbar_html = get_color_map(\n",
    "        df[selected_param],\n",
    "        NAME_MAPPING[selected_param],\n",
    "        cmap=cmap,\n",
    "        min_clip=min_clip,\n",
    "        max_clip=max_clip,\n",
    "        log_scale_mapping=True,\n",
    "    )\n",
    "    df[\"color_clip_log\"] = rgba_colors.tolist()\n",
    "\n",
    "    rgba_colors, colorbar_html = get_color_map(\n",
    "        df[selected_param],\n",
    "        NAME_MAPPING[selected_param],\n",
    "        cmap=cmap,\n",
    "        min_clip=None,\n",
    "        max_clip=None,\n",
    "        log_scale_mapping=False,\n",
    "    )\n",
    "    df[\"color\"] = rgba_colors.tolist()\n",
    "\n",
    "    for col in methods:\n",
    "        df[col] = df[col].apply(lambda rgba: tuple(v / 255 for v in rgba))\n",
    "\n",
    "    plot_df = df[[selected_param] + methods].drop_duplicates()\n",
    "    turb_vals = np.sort(plot_df[selected_param].unique())\n",
    "\n",
    "    df_idx = plot_df.set_index(selected_param)\n",
    "\n",
    "    n_methods = len(methods)\n",
    "    y_pos = np.arange(n_methods)\n",
    "\n",
    "    plt.figure(figsize=(10, 2.5))\n",
    "\n",
    "    for i, method in enumerate(methods):\n",
    "        cols = [df_idx.loc[val, method] for val in turb_vals]\n",
    "        plt.scatter(turb_vals, [i] * len(turb_vals), color=cols, s=100, marker=\"s\", edgecolor=\"none\")\n",
    "\n",
    "    plt.yticks(y_pos, methods)\n",
    "    plt.xlabel(selected_param)\n",
    "    plt.grid(axis=\"x\", linestyle=\"--\", alpha=0.5)\n",
    "\n",
    "    plt.tight_layout()\n",
    "    plt.show()"
   ]
  },
  {
   "cell_type": "code",
   "execution_count": 3,
   "id": "00dc4fa9",
   "metadata": {},
   "outputs": [],
   "source": [
    "selected_param = \"Turbidity\"\n",
    "selected_time = \"2018-01\""
   ]
  },
  {
   "cell_type": "code",
   "execution_count": 4,
   "id": "a28d50fb",
   "metadata": {},
   "outputs": [],
   "source": [
    "water_quality = pd.read_csv(BASE_DIR / \"data/water_quality.csv\")\n",
    "water_quality = water_quality.groupby(\n",
    "    [\"year_month\", \"year\", \"month\", \"longitude\", \"latitude\", \"Neighbourhood\"], as_index=False\n",
    ")[[\"Residual_Chlorine\", \"Turbidity\"]].mean()"
   ]
  },
  {
   "cell_type": "code",
   "execution_count": 5,
   "id": "76715af3",
   "metadata": {},
   "outputs": [
    {
     "data": {
      "image/png": "[encoded data removed]",
      "text/plain": [
       "<Figure size 1000x250 with 1 Axes>"
      ]
     },
     "metadata": {},
     "output_type": "display_data"
    }
   ],
   "source": [
    "compare_colormap(water_quality, selected_param=selected_param, selected_time=selected_time, min_clip=0.1, max_clip=1.5)"
   ]
  }
 ],
 "metadata": {
  "kernelspec": {
   "display_name": "data_viz",
   "language": "python",
   "name": "python3"
  },
  "language_info": {
   "codemirror_mode": {
    "name": "ipython",
    "version": 3
   },
   "file_extension": ".py",
   "mimetype": "text/x-python",
   "name": "python",
   "nbconvert_exporter": "python",
   "pygments_lexer": "ipython3",
   "version": "3.11.12"
  }
 },
 "nbformat": 4,
 "nbformat_minor": 5
}
